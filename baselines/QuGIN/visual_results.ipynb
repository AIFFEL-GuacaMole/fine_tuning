{
 "cells": [
  {
   "cell_type": "code",
   "execution_count": null,
   "id": "initial_id",
   "metadata": {
    "collapsed": true
   },
   "outputs": [],
   "source": [
    "import pandas as pd\n",
    "\n",
    "# r_file = \"result/test_result-all_scaf__2023-10-14_02-26.json\"\n",
    "# r_file = \"result/test_result-all_noscaf__2023-10-14_06-36.json\"\n",
    "# r_file = \"result/test_result-all_scaf__2023-10-18_09-13.json\"\n",
    "# r_file = \"result/test_result-all_noscaf__2023-10-18_10-54.json\"\n",
    "r_file = \"result/test_result-all_scaf_175_2023-10-23_15-36.json\"\n",
    "\n",
    "test_result = pd.read_json(r_file)\n",
    "print(f\"task number:{len(test_result)}; seed number: {len(test_result.columns)}\")"
   ]
  },
  {
   "cell_type": "code",
   "execution_count": null,
   "outputs": [],
   "source": [
    "auc_result = test_result.map(lambda x: x.get('roc-auc'))\n",
    "auc_result['avg'] = auc_result.mean(axis=1)\n",
    "auc_result['std'] = auc_result.std(axis=1)\n",
    "auc_result = auc_result[['avg', 'std']]\n",
    "# auc_result.reset_index(inplace=True, names=\"dataset_name_with_label\")\n",
    "# auc_result['dataset'] = auc_result['dataset_name_with_label'].map(lambda x: x.split('->')[0])\n",
    "auc_result.reset_index(inplace=True, names=\"dataset\")\n",
    "auc_result = auc_result.groupby('dataset')[['avg', 'std']].mean()\n",
    "auc_result"
   ],
   "metadata": {
    "collapsed": false
   },
   "id": "c7f506b5abd6f8d6"
  },
  {
   "cell_type": "code",
   "execution_count": null,
   "outputs": [],
   "source": [
    "view = auc_result.T\n",
    "\n",
    "select = [\n",
    "    'SkinReaction', 'CYP2C9_Veith', 'CYP3A4_Veith', 'AMES', 'CYP2C19_Veith', 'CYP1A2_Veith',\n",
    "    'CYP3A4_Substrate_CarbonMangels', 'Pgp_Broccatelli', 'hERG_Karim', 'DILI', 'ClinTox', 'Carcinogens_Lagunin', 'hERG',\n",
    "    'Tox21->NR-AR', 'Tox21->NR-AR-LBD', 'Tox21->NR-AhR', 'Tox21->NR-Aromatase', 'Tox21->NR-ER', 'Tox21->NR-ER-LBD',\n",
    "    'Tox21->NR-PPAR-gamma', 'Tox21->SR-ARE', 'Tox21->SR-ATAD5', 'Tox21->SR-HSE', 'Tox21->SR-MMP', 'Tox21->SR-p53',\n",
    "    \n",
    "    'PAMPA_NCATS', 'HIA_Hou', 'Bioavailability_Ma', 'BBB_Martins', 'CYP2D6_Veith', 'CYP2C9_Substrate_CarbonMangels',\n",
    "    'CYP2D6_Substrate_CarbonMangels', 'SARSCoV2_Vitro_Touret', 'SARSCoV2_3CLPro_Diamond', 'HIV'\n",
    "\n",
    "]\n",
    "view = view[select]\n",
    "view['mean'] = view.mean(axis=1)\n",
    "view = view[['mean'] + select]\n",
    "view.to_clipboard()\n",
    "view"
   ],
   "metadata": {
    "collapsed": false
   },
   "id": "13dd1f63d1eeee5b"
  }
 ],
 "metadata": {
  "kernelspec": {
   "display_name": "Python 3",
   "language": "python",
   "name": "python3"
  },
  "language_info": {
   "codemirror_mode": {
    "name": "ipython",
    "version": 2
   },
   "file_extension": ".py",
   "mimetype": "text/x-python",
   "name": "python",
   "nbconvert_exporter": "python",
   "pygments_lexer": "ipython2",
   "version": "2.7.6"
  }
 },
 "nbformat": 4,
 "nbformat_minor": 5
}
