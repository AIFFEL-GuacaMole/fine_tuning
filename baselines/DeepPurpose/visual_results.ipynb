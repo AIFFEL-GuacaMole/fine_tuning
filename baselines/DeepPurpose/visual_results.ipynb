{
 "cells": [
  {
   "cell_type": "code",
   "execution_count": null,
   "id": "initial_id",
   "metadata": {
    "collapsed": true
   },
   "outputs": [],
   "source": [
    "import pandas as pd\n",
    "import json\n",
    "\n",
    "# model_name, res_path = ('CNN', \"result/test_result-all_scaf__CNN1698023609.json\")\n",
    "model_name, res_path = ('DGL_AttentiveFP', \"result/test_result-all_scaf__Att1698023467.json\")\n",
    "# model_name, res_path = ('DGL_GIN_AttrMasking', \"result/test_result-all_scaf__Att1698051557.json\")\n",
    "# model_name, res_path = ('DGL_GIN_ContextPred', \"result/test_result-all_scaf__Con1698023534.json\")\n",
    "# model_name, res_path = ('DGL_GCN', \"result/test_result-all_scaf__GCN1698023540.json\")\n",
    "# model_name, res_path = ('DGL_NeuralFP', \"result/test_result-all_scaf__Neu1698023554.json\")\n",
    "\n",
    "with open(res_path, 'r') as f:\n",
    "    res = json.load(f)\n",
    "res = res[model_name]\n",
    "res = pd.DataFrame(res)\n",
    "res = res.map(lambda x: pd.NA if pd.isna(x) else x['roc-auc']).T\n",
    "res['mean'] = res.mean(axis=1)\n",
    "res"
   ]
  },
  {
   "cell_type": "code",
   "execution_count": null,
   "outputs": [],
   "source": [
    "select = [\n",
    "    'SkinReaction', 'CYP2C9_Veith', 'CYP3A4_Veith', 'AMES', 'CYP2C19_Veith', 'CYP1A2_Veith',\n",
    "    'CYP3A4_Substrate_CarbonMangels', 'Pgp_Broccatelli', 'hERG_Karim', 'DILI', 'ClinTox', 'Carcinogens_Lagunin', 'hERG',\n",
    "    'Tox21->NR-AR', 'Tox21->NR-AR-LBD', 'Tox21->NR-AhR', 'Tox21->NR-Aromatase', 'Tox21->NR-ER', 'Tox21->NR-ER-LBD',\n",
    "    'Tox21->NR-PPAR-gamma', 'Tox21->SR-ARE', 'Tox21->SR-ATAD5', 'Tox21->SR-HSE', 'Tox21->SR-MMP', 'Tox21->SR-p53',\n",
    "    'PAMPA_NCATS', 'HIA_Hou', 'Bioavailability_Ma', 'BBB_Martins', 'CYP2D6_Veith', 'CYP2C9_Substrate_CarbonMangels',\n",
    "    'CYP2D6_Substrate_CarbonMangels', 'SARSCoV2_Vitro_Touret', 'SARSCoV2_3CLPro_Diamond', 'HIV'\n",
    "]\n",
    "df = pd.concat([\n",
    "    res.mean().to_frame().T,\n",
    "    res.std().to_frame().T\n",
    "])\n",
    "df.index = ['avg','std']\n",
    "df.loc['std','mean'] = df.loc['std',select].mean()\n",
    "df = df[['mean'] + select]\n",
    "df.to_clipboard()\n",
    "df"
   ],
   "metadata": {
    "collapsed": false
   },
   "id": "1217a96c1de498f0"
  }
 ],
 "metadata": {
  "kernelspec": {
   "display_name": "Python 3",
   "language": "python",
   "name": "python3"
  },
  "language_info": {
   "codemirror_mode": {
    "name": "ipython",
    "version": 2
   },
   "file_extension": ".py",
   "mimetype": "text/x-python",
   "name": "python",
   "nbconvert_exporter": "python",
   "pygments_lexer": "ipython2",
   "version": "2.7.6"
  }
 },
 "nbformat": 4,
 "nbformat_minor": 5
}
