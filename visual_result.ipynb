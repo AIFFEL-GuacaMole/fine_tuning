{
 "cells": [
  {
   "cell_type": "code",
   "execution_count": null,
   "outputs": [],
   "source": [
    "import torch\n",
    "import pandas as pd\n",
    "import pyperclip\n",
    "import os.path as osp\n",
    "\n",
    "pth = \"output/evaluate/{}/all-results.th\"\n",
    "pth2 = \"output/evaluate/{}/{}-results.th\""
   ],
   "metadata": {
    "collapsed": false
   }
  },
  {
   "cell_type": "code",
   "execution_count": null,
   "outputs": [],
   "source": [
    "FULL_PRIN = True\n",
    "row_order = ['AMES', 'CYP2C19_Veith', 'Tox21->NR-AR']\n",
    "CLS_TRIC = 'auc'\n",
    "\n",
    "# functions help you see results\n",
    "def parse_result(result, keep_first=True, return_best_epoch=False):\n",
    "    rs = []\n",
    "    last_epoch = -1\n",
    "    best_epoch = None\n",
    "    for r in result:\n",
    "        epoch = r['checkpoint']['epoch']\n",
    "\n",
    "        if epoch <= last_epoch:\n",
    "            if keep_first:\n",
    "                break\n",
    "            else:\n",
    "                rs = []\n",
    "\n",
    "        last_epoch = epoch\n",
    "\n",
    "        res = r['result']\n",
    "        rob = {}\n",
    "        rob['epoch'] = epoch\n",
    "        todo = res.keys() if FULL_PRIN else row_order\n",
    "        for dataset in todo:\n",
    "            rob[dataset] = res[dataset][CLS_TRIC]\n",
    "        rs.append(rob)\n",
    "        if return_best_epoch:\n",
    "            best_epoch = r['checkpoint'].get('best_epoch')\n",
    "    rs = pd.DataFrame(rs)\n",
    "    if return_best_epoch:\n",
    "        return rs, best_epoch\n",
    "    else:\n",
    "        return rs"
   ],
   "metadata": {
    "collapsed": false
   }
  },
  {
   "cell_type": "code",
   "execution_count": null,
   "outputs": [],
   "source": [
    "def batch_best_load(todos):\n",
    "    head = None\n",
    "    contant = \"\"\n",
    "    for do in todos:\n",
    "        exp = do[:do.rfind('-')]\n",
    "        if not osp.exists(pth2.format(do, \"cls\")):\n",
    "            contant += f\"{exp}\\t{do}\\n\"\n",
    "            continue\n",
    "        result = torch.load(pth2.format(do, \"cls\"))\n",
    "\n",
    "        df, best_epoch = parse_result(result, return_best_epoch=True, keep_first=False)\n",
    "        df = df[df['epoch'] == best_epoch]\n",
    "\n",
    "        assert len(df) > 0, f\"{do} best epoch not exist, {best_epoch}: {parse_result(result)}\"\n",
    "\n",
    "        df.drop(columns=['epoch'], inplace=True)\n",
    "        df['mean'] = df.mean(axis=1)\n",
    "        a = df.iloc[0]\n",
    "        head_tmp = 'exp\\ttag\\t' + \"\\t\".join(a.keys())\n",
    "\n",
    "        if head is None:\n",
    "            contant = head_tmp + '\\n' + contant\n",
    "            head = head_tmp\n",
    "        if head != head_tmp:\n",
    "            contant += \"\\n\" + head_tmp + '\\n'\n",
    "            head = head_tmp\n",
    "\n",
    "        contant += f\"{exp}\\t{do}\\t\" + \"\\t\".join(a.values.astype(str)) + '\\n'\n",
    "\n",
    "    pyperclip.copy(contant)\n",
    "\n",
    "\n",
    "\n",
    "todos = [f'{o}-{i}' for o in\n",
    "         [\n",
    "             'allseed-35ds-scaf-60ex',\n",
    "         ]\n",
    "         for i in range(10)]\n",
    "\n",
    "# todos = [f'{o}-{i}' for o in\n",
    "#          [\n",
    "#              'ablation-scaf-moce-SAG-ATTLoss-ESLoss',\n",
    "#              'ablation-scaf-moce-SAG-ATTLoss',\n",
    "#              'ablation-scaf-moce-SAG',\n",
    "#              'ablation-scaf-moe',\n",
    "#              'ablation-baseGNN'\n",
    "#          ]\n",
    "#          for i in range(10)]\n",
    "\n",
    "\n",
    "\n",
    "batch_best_load(todos)"
   ],
   "metadata": {
    "collapsed": false
   }
  }
 ],
 "metadata": {
  "kernelspec": {
   "display_name": "Python 3",
   "language": "python",
   "name": "python3"
  },
  "language_info": {
   "codemirror_mode": {
    "name": "ipython",
    "version": 2
   },
   "file_extension": ".py",
   "mimetype": "text/x-python",
   "name": "python",
   "nbconvert_exporter": "python",
   "pygments_lexer": "ipython2",
   "version": "2.7.6"
  }
 },
 "nbformat": 4,
 "nbformat_minor": 0
}
